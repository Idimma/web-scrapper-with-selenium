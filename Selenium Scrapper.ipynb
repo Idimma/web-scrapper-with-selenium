{
 "cells": [
  {
   "cell_type": "code",
   "execution_count": 1,
   "metadata": {
    "collapsed": true
   },
   "outputs": [],
   "source": [
    "from time import sleep\n",
    "from selenium import webdriver\n",
    "from selenium.webdriver.common.keys import Keys\n",
    "from selenium.webdriver.common.by import By"
   ]
  },
  {
   "cell_type": "code",
   "execution_count": 2,
   "metadata": {
    "collapsed": true
   },
   "outputs": [],
   "source": [
    "from requests import get\n",
    "from requests.exceptions import RequestException\n",
    "from contextlib import closing\n",
    "from bs4 import BeautifulSoup\n",
    "import csv\n",
    "from selenium.webdriver.support.ui import WebDriverWait\n",
    "from selenium.webdriver.support import expected_conditions as EC\n",
    "from selenium.common.exceptions import TimeoutException"
   ]
  },
  {
   "cell_type": "code",
   "execution_count": 3,
   "metadata": {
    "collapsed": true
   },
   "outputs": [],
   "source": [
    "def simple_get(url):\n",
    "    \n",
    "    \"\"\"\n",
    "    Attempts to get the content at `url` by making an HTTP GET request.\n",
    "    If the content-type of response is some kind of HTML/XML, return the\n",
    "    text content, otherwise return None.\n",
    "    \"\"\"\n",
    "    try:\n",
    "        print('Loading page: ' + url)\n",
    "        with closing(get(url, stream=True)) as resp:\n",
    "            if is_good_response(resp):\n",
    "                \n",
    "                return resp.content\n",
    "            else:\n",
    "                return None\n",
    "\n",
    "    except RequestException as e:\n",
    "        log_error('Error during requests to {0} : {1}'.format(url, str(e)))\n",
    "        return None\n",
    "\n",
    "\n",
    "def is_good_response(resp):\n",
    "    \"\"\"\n",
    "    Returns True if the response seems to be HTML, False otherwise.\n",
    "    \"\"\"\n",
    "    content_type = resp.headers['Content-Type'].lower()\n",
    "    return (resp.status_code == 200 \n",
    "            and content_type is not None \n",
    "            and content_type.find('html') > -1)\n",
    "\n",
    "\n",
    "def log_error(e):\n",
    "    \"\"\"\n",
    "    It is always a good idea to log errors. \n",
    "    This function just prints them, but you can\n",
    "    make it do anything.\n",
    "    \"\"\"\n",
    "    print(e)"
   ]
  },
  {
   "cell_type": "code",
   "execution_count": 4,
   "metadata": {},
   "outputs": [
    {
     "name": "stdout",
     "output_type": "stream",
     "text": [
      "Loading page: https://www.omnical.co/electrical-parts-catalog\n"
     ]
    }
   ],
   "source": [
    "raw_html = simple_get('https://www.omnical.co/electrical-parts-catalog')"
   ]
  },
  {
   "cell_type": "code",
   "execution_count": 5,
   "metadata": {
    "collapsed": true
   },
   "outputs": [],
   "source": [
    "ALP = ['A', 'B', 'C', 'D', 'E', 'F', 'G', 'H', 'I', 'J', 'K', 'L', 'M', 'N', 'O', 'P', 'R', 'S', 'T', 'U', 'V' ,'W', 'X', 'Z']\n",
    "strings = list()\n",
    "urls = list()\n",
    "brands = list()\n",
    "html = BeautifulSoup(raw_html, 'html.parser')\n",
    "# with open('persons.csv', 'w', newline='') as csvfile:\n",
    "#     filewriter = csv.writer(csvfile, delimiter=',',\n",
    "#                             quotechar='|', quoting=csv.QUOTE_MINIMAL)\n",
    "for i, alp in zip(range(len(ALP)), ALP):\n",
    "    strings.append(html.find('div', attrs={'id':'brand-'+alp}))    \n",
    "    for a in strings[i].find_all('a', href=True):    \n",
    "#             filewriter.writerow([a['href'], a.text])\n",
    "        urls.append(a['href'])\n",
    "        brands.append(a.text)    "
   ]
  },
  {
   "cell_type": "code",
   "execution_count": 6,
   "metadata": {
    "collapsed": true
   },
   "outputs": [],
   "source": [
    "def clean_html(url_html):\n",
    "    url_text = BeautifulSoup(url_html, 'html.parser')\n",
    "    view = url_text.find('div', attrs={'id':'products-results-view'})\n",
    "    return view"
   ]
  },
  {
   "cell_type": "code",
   "execution_count": 17,
   "metadata": {
    "collapsed": true
   },
   "outputs": [],
   "source": [
    "def get_array(view):\n",
    "    global next_url\n",
    "    next_url = view.find('a', attrs={'rel':'next'})['href']\n",
    "    next_page = view.find('a', attrs={'rel':'next'})['page']\n",
    "    next_page = int(next_page) - 1\n",
    "    with open(r'products.csv', 'a', newline='') as f:\n",
    "        writer = csv.writer(f)        \n",
    "        views  = view.findAll('div', attrs={'class':'tradeproduct product-row'})\n",
    "        print('writing page '+ str(next_page ))\n",
    "        for i, vw in zip(range(len(views)), views):\n",
    "            brand = brands[current_brand]\n",
    "            product =  vw.find('div', attrs={'class':'tradeproduct-title'}).text\n",
    "            \n",
    "            desc = vw.find('div', attrs={'class':'tradeproduct-generated-description-search'}).text\n",
    "            \n",
    "            if len(product.split(\" \")) >= 4:\n",
    "                product_title = product.split(\" \")[3]\n",
    "                product_group = product.split(\" \")[1]\n",
    "                product_code = product.split(\" \")[2]\n",
    "            else:\n",
    "                product_title = product\n",
    "                product_group = product\n",
    "                product_code = product\n",
    "            \n",
    "            price = vw.find('span', attrs={'itemprop':'pricecurrency'}).text +\" \" + vw.find('span', attrs={'itemprop':'price'}).text\n",
    "            product_detail_image = vw.find('img')['src']\n",
    "            writer.writerow([brand, product_title, product_group, product_code, price, product_detail_image,\"\", \"\", product,\"\", desc])\n",
    "\n",
    "\n"
   ]
  },
  {
   "cell_type": "code",
   "execution_count": 45,
   "metadata": {
    "collapsed": true
   },
   "outputs": [],
   "source": [
    "current_brand = 92\n",
    "driver = webdriver.Chrome('chromedriver.exe')\n",
    "driver.implicitly_wait(30)\n",
    "driver.get(urls[current_brand])"
   ]
  },
  {
   "cell_type": "code",
   "execution_count": 46,
   "metadata": {},
   "outputs": [
    {
     "name": "stdout",
     "output_type": "stream",
     "text": [
      "writing page 1\n",
      "writing page 2\n",
      "Loading took too much time!\n",
      "Loading took too much time!\n",
      "Loading took too much time!\n",
      "writing page 3\n",
      "writing page 4\n",
      "writing page 5\n",
      "writing page 6\n",
      "writing page 7\n",
      "writing page 8\n",
      "writing page 9\n",
      "writing page 10\n",
      "writing page 11\n",
      "writing page 12\n",
      "writing page 13\n",
      "writing page 14\n",
      "writing page 15\n",
      "writing page 16\n",
      "writing page 17\n",
      "writing page 18\n",
      "writing page 19\n",
      "writing page 20\n",
      "writing page 21\n",
      "writing page 22\n",
      "writing page 23\n",
      "writing page 24\n",
      "writing page 25\n",
      "writing page 26\n",
      "writing page 27\n",
      "writing page 28\n",
      "writing page 29\n",
      "writing page 30\n",
      "writing page 31\n",
      "writing page 32\n",
      "writing page 33\n",
      "writing page 34\n",
      "writing page 35\n",
      "writing page 36\n",
      "writing page 37\n",
      "writing page 38\n",
      "writing page 39\n",
      "writing page 40\n",
      "writing page 41\n",
      "writing page 42\n",
      "writing page 43\n",
      "writing page 44\n",
      "writing page 45\n",
      "writing page 46\n",
      "writing page 47\n",
      "writing page 48\n",
      "writing page 49\n",
      "writing page 50\n",
      "writing page 51\n",
      "writing page 52\n",
      "writing page 53\n",
      "writing page 54\n",
      "writing page 55\n",
      "writing page 56\n",
      "writing page 57\n",
      "writing page 58\n",
      "writing page 59\n",
      "writing page 60\n",
      "writing page 61\n",
      "Loading took too much time!\n",
      "Loading took too much time!\n",
      "Loading took too much time!\n",
      "Loading took too much time!\n",
      "Loading took too much time!\n",
      "Loading took too much time!\n",
      "Loading took too much time!\n",
      "Loading took too much time!\n",
      "Loading took too much time!\n",
      "Loading took too much time!\n",
      "Loading took too much time!\n",
      "Loading took too much time!\n",
      "Loading took too much time!\n",
      "Loading took too much time!\n",
      "Loading took too much time!\n",
      "Loading took too much time!\n",
      "Loading took too much time!\n",
      "Loading took too much time!\n",
      "Loading took too much time!\n",
      "Loading took too much time!\n",
      "Loading took too much time!\n",
      "Loading took too much time!\n",
      "Loading took too much time!\n",
      "Loading took too much time!\n",
      "Loading took too much time!\n",
      "Loading took too much time!\n",
      "Loading took too much time!\n",
      "Loading took too much time!\n",
      "Loading took too much time!\n",
      "Loading took too much time!\n",
      "Loading took too much time!\n",
      "Loading took too much time!\n",
      "Loading took too much time!\n",
      "Loading took too much time!\n",
      "Loading took too much time!\n",
      "Loading took too much time!\n",
      "Loading took too much time!\n",
      "Loading took too much time!\n",
      "Loading took too much time!\n",
      "Loading took too much time!\n",
      "Loading took too much time!\n",
      "Loading took too much time!\n"
     ]
    },
    {
     "ename": "AttributeError",
     "evalue": "'NoneType' object has no attribute 'is_displayed'",
     "output_type": "error",
     "traceback": [
      "\u001b[1;31m---------------------------------------------------------------------------\u001b[0m",
      "\u001b[1;31mAttributeError\u001b[0m                            Traceback (most recent call last)",
      "\u001b[1;32m<ipython-input-46-51aa727677d9>\u001b[0m in \u001b[0;36m<module>\u001b[1;34m()\u001b[0m\n\u001b[0;32m      3\u001b[0m     \u001b[1;32mtry\u001b[0m\u001b[1;33m:\u001b[0m\u001b[1;33m\u001b[0m\u001b[0m\n\u001b[0;32m      4\u001b[0m         \u001b[0mwait\u001b[0m \u001b[1;33m=\u001b[0m \u001b[0mWebDriverWait\u001b[0m\u001b[1;33m(\u001b[0m\u001b[0mdriver\u001b[0m\u001b[1;33m,\u001b[0m \u001b[1;36m20\u001b[0m\u001b[1;33m)\u001b[0m\u001b[1;33m\u001b[0m\u001b[0m\n\u001b[1;32m----> 5\u001b[1;33m         \u001b[0melement\u001b[0m \u001b[1;33m=\u001b[0m \u001b[0mwait\u001b[0m\u001b[1;33m.\u001b[0m\u001b[0muntil\u001b[0m\u001b[1;33m(\u001b[0m\u001b[0mEC\u001b[0m\u001b[1;33m.\u001b[0m\u001b[0mvisibility_of_element_located\u001b[0m\u001b[1;33m(\u001b[0m\u001b[1;33m(\u001b[0m\u001b[0mBy\u001b[0m\u001b[1;33m.\u001b[0m\u001b[0mID\u001b[0m\u001b[1;33m,\u001b[0m \u001b[1;34m'products-results-view'\u001b[0m\u001b[1;33m)\u001b[0m\u001b[1;33m)\u001b[0m\u001b[1;33m)\u001b[0m\u001b[1;33m\u001b[0m\u001b[0m\n\u001b[0m\u001b[0;32m      6\u001b[0m         \u001b[1;32mif\u001b[0m \u001b[0melement\u001b[0m\u001b[1;33m.\u001b[0m\u001b[0mis_displayed\u001b[0m\u001b[1;33m(\u001b[0m\u001b[1;33m)\u001b[0m\u001b[1;33m:\u001b[0m\u001b[1;33m\u001b[0m\u001b[0m\n\u001b[0;32m      7\u001b[0m             \u001b[0mget_array\u001b[0m\u001b[1;33m(\u001b[0m\u001b[0mclean_html\u001b[0m\u001b[1;33m(\u001b[0m\u001b[0mdriver\u001b[0m\u001b[1;33m.\u001b[0m\u001b[0mpage_source\u001b[0m\u001b[1;33m)\u001b[0m\u001b[1;33m)\u001b[0m\u001b[1;33m\u001b[0m\u001b[0m\n",
      "\u001b[1;32mC:\\Python35\\lib\\site-packages\\selenium\\webdriver\\support\\wait.py\u001b[0m in \u001b[0;36muntil\u001b[1;34m(self, method, message)\u001b[0m\n\u001b[0;32m     69\u001b[0m         \u001b[1;32mwhile\u001b[0m \u001b[1;32mTrue\u001b[0m\u001b[1;33m:\u001b[0m\u001b[1;33m\u001b[0m\u001b[0m\n\u001b[0;32m     70\u001b[0m             \u001b[1;32mtry\u001b[0m\u001b[1;33m:\u001b[0m\u001b[1;33m\u001b[0m\u001b[0m\n\u001b[1;32m---> 71\u001b[1;33m                 \u001b[0mvalue\u001b[0m \u001b[1;33m=\u001b[0m \u001b[0mmethod\u001b[0m\u001b[1;33m(\u001b[0m\u001b[0mself\u001b[0m\u001b[1;33m.\u001b[0m\u001b[0m_driver\u001b[0m\u001b[1;33m)\u001b[0m\u001b[1;33m\u001b[0m\u001b[0m\n\u001b[0m\u001b[0;32m     72\u001b[0m                 \u001b[1;32mif\u001b[0m \u001b[0mvalue\u001b[0m\u001b[1;33m:\u001b[0m\u001b[1;33m\u001b[0m\u001b[0m\n\u001b[0;32m     73\u001b[0m                     \u001b[1;32mreturn\u001b[0m \u001b[0mvalue\u001b[0m\u001b[1;33m\u001b[0m\u001b[0m\n",
      "\u001b[1;32mC:\\Python35\\lib\\site-packages\\selenium\\webdriver\\support\\expected_conditions.py\u001b[0m in \u001b[0;36m__call__\u001b[1;34m(self, driver)\u001b[0m\n\u001b[0;32m     76\u001b[0m     \u001b[1;32mdef\u001b[0m \u001b[0m__call__\u001b[0m\u001b[1;33m(\u001b[0m\u001b[0mself\u001b[0m\u001b[1;33m,\u001b[0m \u001b[0mdriver\u001b[0m\u001b[1;33m)\u001b[0m\u001b[1;33m:\u001b[0m\u001b[1;33m\u001b[0m\u001b[0m\n\u001b[0;32m     77\u001b[0m         \u001b[1;32mtry\u001b[0m\u001b[1;33m:\u001b[0m\u001b[1;33m\u001b[0m\u001b[0m\n\u001b[1;32m---> 78\u001b[1;33m             \u001b[1;32mreturn\u001b[0m \u001b[0m_element_if_visible\u001b[0m\u001b[1;33m(\u001b[0m\u001b[0m_find_element\u001b[0m\u001b[1;33m(\u001b[0m\u001b[0mdriver\u001b[0m\u001b[1;33m,\u001b[0m \u001b[0mself\u001b[0m\u001b[1;33m.\u001b[0m\u001b[0mlocator\u001b[0m\u001b[1;33m)\u001b[0m\u001b[1;33m)\u001b[0m\u001b[1;33m\u001b[0m\u001b[0m\n\u001b[0m\u001b[0;32m     79\u001b[0m         \u001b[1;32mexcept\u001b[0m \u001b[0mStaleElementReferenceException\u001b[0m\u001b[1;33m:\u001b[0m\u001b[1;33m\u001b[0m\u001b[0m\n\u001b[0;32m     80\u001b[0m             \u001b[1;32mreturn\u001b[0m \u001b[1;32mFalse\u001b[0m\u001b[1;33m\u001b[0m\u001b[0m\n",
      "\u001b[1;32mC:\\Python35\\lib\\site-packages\\selenium\\webdriver\\support\\expected_conditions.py\u001b[0m in \u001b[0;36m_element_if_visible\u001b[1;34m(element, visibility)\u001b[0m\n\u001b[0;32m     96\u001b[0m \u001b[1;33m\u001b[0m\u001b[0m\n\u001b[0;32m     97\u001b[0m \u001b[1;32mdef\u001b[0m \u001b[0m_element_if_visible\u001b[0m\u001b[1;33m(\u001b[0m\u001b[0melement\u001b[0m\u001b[1;33m,\u001b[0m \u001b[0mvisibility\u001b[0m\u001b[1;33m=\u001b[0m\u001b[1;32mTrue\u001b[0m\u001b[1;33m)\u001b[0m\u001b[1;33m:\u001b[0m\u001b[1;33m\u001b[0m\u001b[0m\n\u001b[1;32m---> 98\u001b[1;33m     \u001b[1;32mreturn\u001b[0m \u001b[0melement\u001b[0m \u001b[1;32mif\u001b[0m \u001b[0melement\u001b[0m\u001b[1;33m.\u001b[0m\u001b[0mis_displayed\u001b[0m\u001b[1;33m(\u001b[0m\u001b[1;33m)\u001b[0m \u001b[1;33m==\u001b[0m \u001b[0mvisibility\u001b[0m \u001b[1;32melse\u001b[0m \u001b[1;32mFalse\u001b[0m\u001b[1;33m\u001b[0m\u001b[0m\n\u001b[0m\u001b[0;32m     99\u001b[0m \u001b[1;33m\u001b[0m\u001b[0m\n\u001b[0;32m    100\u001b[0m \u001b[1;33m\u001b[0m\u001b[0m\n",
      "\u001b[1;31mAttributeError\u001b[0m: 'NoneType' object has no attribute 'is_displayed'"
     ]
    }
   ],
   "source": [
    "for x in range(2050):\n",
    "    global driver\n",
    "    try:      \n",
    "        wait = WebDriverWait(driver, 20)\n",
    "        element = wait.until(EC.visibility_of_element_located((By.ID, 'products-results-view')))\n",
    "        if element.is_displayed():\n",
    "            get_array(clean_html(driver.page_source))\n",
    "            elem = driver.find_element_by_xpath(\"//div[@class='pages']/ul[1]/li/a[@rel='next']\")\n",
    "            elem.click()            \n",
    "            sleep(3)\n",
    "        else:\n",
    "            print(\"Element not found\")\n",
    "    except TimeoutException:\n",
    "        print(\"Loading took too much time!\")\n"
   ]
  },
  {
   "cell_type": "code",
   "execution_count": 44,
   "metadata": {
    "collapsed": true
   },
   "outputs": [],
   "source": [
    "driver.quit()"
   ]
  },
  {
   "cell_type": "code",
   "execution_count": null,
   "metadata": {
    "collapsed": true
   },
   "outputs": [],
   "source": []
  }
 ],
 "metadata": {
  "kernelspec": {
   "display_name": "Python 3",
   "language": "python",
   "name": "python3"
  },
  "language_info": {
   "codemirror_mode": {
    "name": "ipython",
    "version": 3
   },
   "file_extension": ".py",
   "mimetype": "text/x-python",
   "name": "python",
   "nbconvert_exporter": "python",
   "pygments_lexer": "ipython3",
   "version": "3.5.3"
  }
 },
 "nbformat": 4,
 "nbformat_minor": 2
}
